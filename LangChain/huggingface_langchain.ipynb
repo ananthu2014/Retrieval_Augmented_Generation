{
 "cells": [
  {
   "cell_type": "code",
   "execution_count": 14,
   "metadata": {},
   "outputs": [],
   "source": [
    "from langchain_community.document_loaders import PyPDFLoader\n",
    "from langchain_community.document_loaders import PyPDFDirectoryLoader\n",
    "from langchain.text_splitter import RecursiveCharacterTextSplitter\n",
    "from langchain_community.vectorstores import FAISS\n",
    "from langchain_community.embeddings import HuggingFaceBgeEmbeddings\n",
    "from langchain.prompts import PromptTemplate\n",
    "from langchain.chains import RetrievalQA\n",
    "import  numpy as np\n",
    "import os"
   ]
  },
  {
   "cell_type": "code",
   "execution_count": 11,
   "metadata": {},
   "outputs": [],
   "source": [
    "#Read the ppdfs from the folder\n",
    "loader=PyPDFDirectoryLoader(\"./us_census\")\n",
    "documents=loader.load()\n",
    "text_splitter=RecursiveCharacterTextSplitter(chunk_size=1000,chunk_overlap=200)\n",
    "final_documents=text_splitter.split_documents(documents)\n",
    "from tqdm import tqdm"
   ]
  },
  {
   "cell_type": "code",
   "execution_count": 8,
   "metadata": {},
   "outputs": [
    {
     "name": "stdout",
     "output_type": "stream",
     "text": [
      "316\n"
     ]
    },
    {
     "data": {
      "text/plain": [
       "Document(metadata={'source': 'us_census/acsbr-017.pdf', 'page': 0}, page_content='KEY DEFINITIONS\\nHousehold income: Includes income of the \\nhouseholder and all other people 15 years and older in the household, whether or not they are related to the householder.\\nMedian: The point that divides the household \\nincome distribution into halves, one half with income above the median and the other with income below the median. The median is based on the income distribution of all households, including those with no income.\\nGini index: A summary measure of income \\ninequality. The Gini index varies from 0 to 1, with 0 indicating perfect equality, where there is a proportional distribution of income. A Gini index of 1 indicates perfect inequality, where one household has all the income.Household Income in States and \\nMetropolitan Areas: 2022\\nAmerican  Community S urvey  Briefs\\nBy Kirby G. Posey\\nACSBR-017\\nDecember 2023\\nINTRODUCTION\\nThis brief presents statistics on median household')"
      ]
     },
     "execution_count": 8,
     "metadata": {},
     "output_type": "execute_result"
    }
   ],
   "source": [
    "print(len(final_documents))\n",
    "final_documents[0]"
   ]
  },
  {
   "cell_type": "code",
   "execution_count": 12,
   "metadata": {},
   "outputs": [
    {
     "name": "stderr",
     "output_type": "stream",
     "text": [
      "/home/user/mambaforge/envs/ecommercesearchai/lib/python3.10/site-packages/transformers/tokenization_utils_base.py:1601: FutureWarning: `clean_up_tokenization_spaces` was not set. It will be set to `True` by default. This behavior will be depracted in transformers v4.45, and will be then set to `False` by default. For more details check this issue: https://github.com/huggingface/transformers/issues/31884\n",
      "  warnings.warn(\n"
     ]
    }
   ],
   "source": [
    "# Embedding Using Huggingface\n",
    "huggingface_embeddings=HuggingFaceBgeEmbeddings(\n",
    "    model_name=\"sentence-transformers/all-MiniLM-l6-v2\",      \n",
    "    model_kwargs={'device':'cpu'},\n",
    "    encode_kwargs={'normalize_embeddings':True}\n",
    "\n",
    ")"
   ]
  },
  {
   "cell_type": "code",
   "execution_count": 15,
   "metadata": {},
   "outputs": [
    {
     "name": "stdout",
     "output_type": "stream",
     "text": [
      "[-1.71477459e-02 -2.76800878e-02  4.26293686e-02  2.39637569e-02\n",
      " -4.71268892e-02  6.54380023e-03 -6.81887642e-02  1.56108551e-02\n",
      " -8.66209418e-02 -1.72416624e-02  7.30304606e-03 -5.59468642e-02\n",
      "  2.54343934e-02 -2.15982944e-02 -8.21789503e-02 -5.13732545e-02\n",
      " -7.67956674e-03 -1.57067012e-02  2.58647464e-02  7.06210211e-02\n",
      "  9.43597704e-02  1.35466196e-02  1.10754641e-02 -4.42244671e-02\n",
      "  1.43394217e-01 -3.71766649e-02 -7.54728308e-03 -4.82792407e-02\n",
      "  1.39716184e-02  1.10534549e-01  5.20765483e-02  6.84058145e-02\n",
      "  1.51482940e-01 -4.48741112e-03 -2.82990951e-02 -5.87211177e-02\n",
      "  5.34513071e-02  3.21172141e-02  6.85726851e-02 -4.84611616e-02\n",
      "  2.02024858e-02 -5.20371571e-02 -4.88764467e-03 -5.69964610e-02\n",
      " -2.56069954e-02 -3.28649092e-03  2.01870743e-02  3.31615061e-02\n",
      "  3.18519734e-02  5.57018220e-02 -8.64430442e-02  8.28257278e-02\n",
      "  5.69304302e-02  6.52428344e-02  5.10994829e-02  2.24289205e-02\n",
      " -7.25073391e-04 -4.40494418e-02  2.98080537e-02  4.56850231e-02\n",
      " -4.17241938e-02  5.72430668e-04 -1.68971121e-02  8.91105086e-03\n",
      "  5.00562489e-02 -4.62889262e-02 -1.82701147e-03  1.18574332e-02\n",
      " -5.08160368e-02 -3.07901260e-02 -6.15111087e-04 -3.05794869e-02\n",
      " -7.40364492e-02  1.38993971e-02  6.65183365e-02 -9.00251642e-02\n",
      " -3.36711551e-03  2.75108032e-02  2.77411682e-03 -5.92391714e-02\n",
      " -1.11474125e-02  2.57648602e-02 -5.17492043e-03  2.61202827e-02\n",
      "  4.88704070e-03  6.30585179e-02 -1.65746140e-03  1.51964836e-02\n",
      "  1.29796676e-02 -4.32735272e-02 -4.11673337e-02  5.15607593e-04\n",
      " -2.75169555e-02 -4.27630097e-02  1.01997390e-01 -2.87784562e-02\n",
      "  1.00417892e-02 -8.25131088e-02 -3.52986008e-02  3.09145786e-02\n",
      " -8.12358260e-02 -1.13267034e-01  1.61369648e-02 -8.28394666e-02\n",
      " -4.53663021e-02 -2.02872548e-02 -2.48612575e-02  3.57054099e-02\n",
      " -1.99988075e-02  4.19014432e-02  1.11935129e-02 -8.96099024e-04\n",
      " -9.19002444e-02  4.05757651e-02  3.29758599e-02 -1.11951642e-01\n",
      "  6.30959123e-02  3.62768164e-03  4.69004437e-02  4.76167314e-02\n",
      " -9.21716262e-03 -2.24038363e-02 -2.35288893e-03  1.96165126e-03\n",
      "  5.75226098e-02 -7.42006535e-03  2.06052270e-02  4.68540734e-33\n",
      "  5.54456152e-02 -2.98777223e-02 -1.10289967e-02  1.24433488e-02\n",
      " -5.27997240e-02  1.72376614e-02 -5.20513915e-02 -3.89347523e-02\n",
      "  6.88893870e-02  2.46193405e-04  8.08330476e-02  6.93509504e-02\n",
      " -1.86344273e-02 -3.84836569e-02 -7.92360213e-03  4.96776178e-02\n",
      " -7.72090033e-02  5.06286994e-02 -3.17811482e-02 -2.30048504e-02\n",
      " -1.90471429e-02  2.89239231e-02 -2.57788599e-02  4.15975451e-02\n",
      " -4.14159931e-02 -5.65040298e-02 -1.73120219e-02 -6.42768666e-02\n",
      "  9.30161495e-03  2.64877599e-04 -6.76534692e-05  1.71770100e-02\n",
      "  5.61571214e-03 -1.44493207e-01 -5.47399484e-02  7.10871164e-03\n",
      "  5.98141970e-03 -3.50425206e-03 -1.07239909e-01 -3.24934945e-02\n",
      " -9.39497128e-02 -4.04661521e-02  1.11037895e-01 -2.91733108e-02\n",
      "  2.21442175e-03 -2.28726510e-02  1.89681966e-02  5.09310849e-02\n",
      " -1.99140585e-03  9.19480920e-02 -4.57365401e-02  3.59010100e-02\n",
      " -3.40418294e-02 -9.10574570e-03 -8.74241367e-02  3.82228754e-02\n",
      "  2.70115901e-02 -3.29513289e-02 -5.15958779e-02 -2.33872067e-02\n",
      " -5.19000031e-02 -1.15898937e-01  5.18034445e-03 -6.28712308e-03\n",
      "  1.80426193e-03  6.61086738e-02 -1.14305578e-02  5.93945943e-02\n",
      "  7.62511790e-02  1.26373917e-01  6.65989006e-03 -2.58628055e-02\n",
      " -7.90522993e-02  5.73182516e-02  4.23425362e-02  3.58294360e-02\n",
      " -8.61638505e-03  6.65636510e-02  2.12000236e-02  2.65392996e-02\n",
      "  7.34843779e-03  3.38678062e-02  1.36452410e-02 -3.53173539e-02\n",
      "  7.36820325e-02  5.30819297e-02  3.98382805e-02  2.45053675e-02\n",
      "  1.20255491e-03 -7.34875202e-02  6.49829060e-02 -6.14459775e-02\n",
      "  3.21338996e-02 -2.51008440e-02 -3.09476908e-02 -6.84502262e-33\n",
      " -9.88129452e-02  3.32531855e-02  5.50134992e-03  2.61552688e-02\n",
      " -3.39598599e-04 -3.46714929e-02  1.75674390e-02 -5.52983284e-02\n",
      "  1.09429732e-02 -7.39841117e-03 -4.52015437e-02  3.48080241e-04\n",
      "  8.95000398e-02  6.74566776e-02 -3.87294963e-02  6.58337325e-02\n",
      "  2.33546458e-02 -6.97944835e-02 -5.96753694e-02  1.56300329e-02\n",
      "  3.23572941e-02  1.24705303e-02  8.42953324e-02  6.57840893e-02\n",
      " -4.50224318e-02 -8.14297795e-02 -5.90595715e-02  8.83076191e-02\n",
      " -3.02636661e-02 -2.31656730e-02  7.02098161e-02 -2.15834323e-02\n",
      " -3.83962244e-02 -7.86101595e-02 -1.42157413e-02 -6.82843253e-02\n",
      " -4.51246463e-02 -5.44746034e-02 -8.91983733e-02 -5.46097420e-02\n",
      "  1.05628051e-01 -7.53450096e-02 -3.60274613e-02  2.27865521e-02\n",
      " -1.99069660e-02  3.36638615e-02  6.25251187e-03  1.79335363e-02\n",
      " -7.67185241e-02  3.35315056e-02  3.43818180e-02  4.87787426e-02\n",
      "  5.33111058e-02  5.08658849e-02 -3.99917141e-02 -5.32977954e-02\n",
      "  4.29909900e-02  7.22233392e-03 -2.16391981e-02  4.79499064e-02\n",
      "  4.63078655e-02  5.08376844e-02 -7.25337937e-02  1.08098060e-01\n",
      " -3.68247814e-02 -8.87247548e-02  1.79218326e-03 -1.32600769e-01\n",
      " -1.47289212e-03 -3.11009139e-02  3.95434238e-02 -1.34661973e-01\n",
      "  1.15259498e-01 -5.68279400e-02  2.38844883e-02  9.13968086e-02\n",
      "  2.14024372e-02  4.52039018e-02  4.01450656e-02  8.66715144e-03\n",
      " -2.51059681e-02  5.76741574e-03 -5.52285127e-02  5.58248954e-03\n",
      " -7.09086806e-02 -2.51109805e-02  1.49423480e-02 -4.99120951e-02\n",
      "  2.55540609e-02  9.53049883e-02 -1.04403265e-01  1.02160498e-01\n",
      " -5.39739355e-02 -4.19225059e-02  2.02304926e-02 -4.97796186e-08\n",
      "  1.09123178e-01  3.17118503e-02 -5.05685098e-02 -4.64147590e-02\n",
      " -4.36716937e-02  1.19585183e-03 -2.52906382e-02  5.41853998e-03\n",
      " -1.21562257e-02  6.56431392e-02  3.62842306e-02  1.11789601e-02\n",
      "  3.50769237e-02 -7.66861215e-02  1.10015003e-02 -3.77707072e-02\n",
      "  2.77777221e-02  2.32762862e-02 -2.15970036e-02 -1.67929998e-03\n",
      "  5.44993132e-02 -1.84399765e-02  2.10087691e-02  4.24727984e-02\n",
      " -4.75894473e-02  5.58569804e-02  2.62129237e-04 -1.29485372e-02\n",
      " -3.14988382e-02 -3.88069591e-03  5.45722432e-02  2.81823743e-02\n",
      "  1.59873758e-02 -1.53507129e-03 -5.31025268e-02  8.06992650e-02\n",
      "  8.37286469e-03 -5.40096965e-03  2.56486014e-02 -8.84201284e-03\n",
      "  6.53058738e-02 -9.96589884e-02 -3.64587121e-02 -4.37640473e-02\n",
      "  1.41265069e-03  2.61007361e-02  8.44955537e-03  3.89079899e-02\n",
      "  6.41568825e-02 -3.08371112e-02 -5.67446202e-02 -2.34858389e-03\n",
      " -1.84280127e-02 -5.65352999e-02 -1.03745041e-02 -6.07243963e-02\n",
      "  3.24611776e-02 -1.86858606e-02  1.18500277e-01 -6.67001233e-02\n",
      "  1.34669274e-01  1.79688632e-02 -7.06304312e-02  3.83181088e-02]\n"
     ]
    }
   ],
   "source": [
    "'''Test'''\n",
    "print(np.array(huggingface_embeddings.embed_query(final_documents[0].page_content)))"
   ]
  },
  {
   "cell_type": "code",
   "execution_count": 16,
   "metadata": {},
   "outputs": [],
   "source": [
    "## VectorStore Creation\n",
    "vectorstore=FAISS.from_documents(final_documents[:120],huggingface_embeddings)"
   ]
  },
  {
   "cell_type": "code",
   "execution_count": 17,
   "metadata": {},
   "outputs": [
    {
     "name": "stdout",
     "output_type": "stream",
     "text": [
      "detailed estimates of income and \n",
      "to measure change in national-\n",
      "level estimates. The CPS ASEC \n",
      "is the official source of national \n",
      "poverty estimates. For more infor -\n",
      "mation from the CPS ASEC about \n",
      "national income estimates, refer to \n",
      "the report “ Income in the United \n",
      "States: 2022 .”\n",
      "For information on income esti -\n",
      "mates from the ACS and how they \n",
      "differ from those based on the \n",
      "CPS ASEC, refer to “ Fact Sheet: \n",
      "Differences Between the American \n",
      "Community Survey and the Annual \n",
      "Social and Economic Supplement \n",
      "to the Current Population Survey  \n",
      "(CPS ASEC) .”\n",
      "WHAT IS THE AMERICAN COMMUNITY SURVEY?\n",
      "The American Community Survey (ACS) is a nationwide survey designed to provide reliable and timely \n",
      "demographic, social, economic, and housing data for the nation, states, congressional districts, counties, \n",
      "places, and other localities every year. It has an annual sample size of about 3.5 million addresses across\n"
     ]
    }
   ],
   "source": [
    "## Query using Similarity Search\n",
    "query=\"WHAT IS HEALTH INSURANCE COVERAGE?\"\n",
    "relevant_docments=vectorstore.similarity_search(query)\n",
    "\n",
    "print(relevant_docments[0].page_content)"
   ]
  },
  {
   "cell_type": "code",
   "execution_count": 19,
   "metadata": {},
   "outputs": [
    {
     "name": "stdout",
     "output_type": "stream",
     "text": [
      "tags=['FAISS', 'HuggingFaceBgeEmbeddings'] vectorstore=<langchain_community.vectorstores.faiss.FAISS object at 0x7f7875e19180> search_kwargs={'k': 3}\n"
     ]
    }
   ],
   "source": [
    "'''Creating retriever with top 3 ranked results being retrieved on the basis of similarity search'''\n",
    "retriever=vectorstore.as_retriever(search_type=\"similarity\",search_kwargs={\"k\":3})\n",
    "print(retriever)"
   ]
  },
  {
   "cell_type": "code",
   "execution_count": null,
   "metadata": {},
   "outputs": [],
   "source": [
    "\n",
    "os.environ['HUGGINGFACEHUB_API_TOKEN']=\"\""
   ]
  }
 ],
 "metadata": {
  "kernelspec": {
   "display_name": "Python 3",
   "language": "python",
   "name": "python3"
  },
  "language_info": {
   "codemirror_mode": {
    "name": "ipython",
    "version": 3
   },
   "file_extension": ".py",
   "mimetype": "text/x-python",
   "name": "python",
   "nbconvert_exporter": "python",
   "pygments_lexer": "ipython3",
   "version": "3.10.14"
  },
  "orig_nbformat": 4
 },
 "nbformat": 4,
 "nbformat_minor": 2
}
